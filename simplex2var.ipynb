{
 "cells": [
  {
   "cell_type": "code",
   "execution_count": 16,
   "id": "c24ecfa3",
   "metadata": {},
   "outputs": [],
   "source": [
    "from scipy.optimize import linprog\n",
    "#Max z=3x1+2x2\n",
    "#subject to\n",
    "#x1 + x2 <=4\n",
    "#x1 - x2 <=2\n",
    "#x1,x2>=0"
   ]
  },
  {
   "cell_type": "code",
   "execution_count": 17,
   "id": "4c91a850",
   "metadata": {},
   "outputs": [],
   "source": [
    "obj = [-3, -2]"
   ]
  },
  {
   "cell_type": "code",
   "execution_count": 18,
   "id": "b1eec90b",
   "metadata": {},
   "outputs": [],
   "source": [
    "lhs_ineq = [[ 1, 1],[1, -1]]"
   ]
  },
  {
   "cell_type": "code",
   "execution_count": 19,
   "id": "e0a82a07",
   "metadata": {},
   "outputs": [],
   "source": [
    "rhs_ineq = [4, 2]"
   ]
  },
  {
   "cell_type": "code",
   "execution_count": 20,
   "id": "a2194637",
   "metadata": {},
   "outputs": [],
   "source": [
    "bnd = [(0, float(\"inf\")),(0, float(\"inf\"))]"
   ]
  },
  {
   "cell_type": "code",
   "execution_count": 21,
   "id": "33e80dbe",
   "metadata": {},
   "outputs": [],
   "source": [
    "opt = linprog(c=obj, A_ub=lhs_ineq, b_ub=rhs_ineq,bounds=bnd,method=\"revised simplex\")"
   ]
  },
  {
   "cell_type": "code",
   "execution_count": 22,
   "id": "851fbc3f",
   "metadata": {},
   "outputs": [
    {
     "data": {
      "text/plain": [
       "     con: array([], dtype=float64)\n",
       "     fun: -11.0\n",
       " message: 'Optimization terminated successfully.'\n",
       "     nit: 2\n",
       "   slack: array([0., 0.])\n",
       "  status: 0\n",
       " success: True\n",
       "       x: array([3., 1.])"
      ]
     },
     "execution_count": 22,
     "metadata": {},
     "output_type": "execute_result"
    }
   ],
   "source": [
    "opt"
   ]
  },
  {
   "cell_type": "code",
   "execution_count": 23,
   "id": "2f189c0c",
   "metadata": {},
   "outputs": [
    {
     "data": {
      "text/plain": [
       "-11.0"
      ]
     },
     "execution_count": 23,
     "metadata": {},
     "output_type": "execute_result"
    }
   ],
   "source": [
    "opt.fun"
   ]
  },
  {
   "cell_type": "code",
   "execution_count": 25,
   "id": "59c6e7b6",
   "metadata": {},
   "outputs": [
    {
     "data": {
      "text/plain": [
       "True"
      ]
     },
     "execution_count": 25,
     "metadata": {},
     "output_type": "execute_result"
    }
   ],
   "source": [
    "opt.success"
   ]
  },
  {
   "cell_type": "code",
   "execution_count": 26,
   "id": "a411491e",
   "metadata": {},
   "outputs": [
    {
     "data": {
      "text/plain": [
       "array([3., 1.])"
      ]
     },
     "execution_count": 26,
     "metadata": {},
     "output_type": "execute_result"
    }
   ],
   "source": [
    "opt.x"
   ]
  }
 ],
 "metadata": {
  "kernelspec": {
   "display_name": "Python 3 (ipykernel)",
   "language": "python",
   "name": "python3"
  },
  "language_info": {
   "codemirror_mode": {
    "name": "ipython",
    "version": 3
   },
   "file_extension": ".py",
   "mimetype": "text/x-python",
   "name": "python",
   "nbconvert_exporter": "python",
   "pygments_lexer": "ipython3",
   "version": "3.9.7"
  }
 },
 "nbformat": 4,
 "nbformat_minor": 5
}
